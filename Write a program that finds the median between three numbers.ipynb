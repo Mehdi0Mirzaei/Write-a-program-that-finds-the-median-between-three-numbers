{
 "cells": [
  {
   "cell_type": "code",
   "execution_count": 3,
   "id": "1f66bab7",
   "metadata": {},
   "outputs": [
    {
     "name": "stdout",
     "output_type": "stream",
     "text": [
      "Enter first number: 12\n",
      "Enter second number: 13\n",
      "Enter third number: 14\n",
      "The middle number is 13\n"
     ]
    }
   ],
   "source": [
    "num1=int(input(\"Enter first number: \"))\n",
    "num2=int(input(\"Enter second number: \"))\n",
    "num3=int(input(\"Enter third number: \"))\n",
    "\n",
    "if num1>num2:\n",
    "    if num1<num3:\n",
    "        median = num1\n",
    "    elif num2>num3:\n",
    "        median = num2\n",
    "    else:\n",
    "        median = num3\n",
    "else:\n",
    "    if num1>num3:\n",
    "        median = num1\n",
    "    elif num2<num3:\n",
    "        median = num2\n",
    "    else:\n",
    "        median = num3\n",
    "print(\"The middle number is\",median)"
   ]
  },
  {
   "cell_type": "code",
   "execution_count": null,
   "id": "6a0bcfae",
   "metadata": {},
   "outputs": [],
   "source": []
  }
 ],
 "metadata": {
  "kernelspec": {
   "display_name": "Python 3 (ipykernel)",
   "language": "python",
   "name": "python3"
  },
  "language_info": {
   "codemirror_mode": {
    "name": "ipython",
    "version": 3
   },
   "file_extension": ".py",
   "mimetype": "text/x-python",
   "name": "python",
   "nbconvert_exporter": "python",
   "pygments_lexer": "ipython3",
   "version": "3.9.17"
  }
 },
 "nbformat": 4,
 "nbformat_minor": 5
}
